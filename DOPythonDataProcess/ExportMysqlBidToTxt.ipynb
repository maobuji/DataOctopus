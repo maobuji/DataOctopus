{
 "cells": [
  {
   "cell_type": "code",
   "execution_count": 16,
   "metadata": {
    "scrolled": false
   },
   "outputs": [
    {
     "name": "stdout",
     "output_type": "stream",
     "text": [
      "C_ID\n",
      "C_URL\n",
      "C_STATION\n",
      "C_TITLE\n",
      "C_CONTENT\n",
      "C_BID_TIME\n",
      "C_GET_TIME\n"
     ]
    }
   ],
   "source": [
    "import pymysql\n",
    "conn = pymysql.connect(host='127.0.0.1', port=3306, user='root', passwd='root',db='biddb',charset='utf8',cursorclass=pymysql.cursors.DictCursor)\n",
    "cursor=conn.cursor();\n",
    "\n",
    "cursor.execute(\"select * from t_rawbid limit 10\")\n",
    "\n",
    "\n",
    "row=cursor.fetchone()\n",
    "\n",
    "\n",
    "for r in row:\n",
    "        print(r)\n",
    "\n",
    "cur.close()\n",
    "\n",
    "conn.close()"
   ]
  },
  {
   "cell_type": "code",
   "execution_count": null,
   "metadata": {
    "collapsed": true
   },
   "outputs": [],
   "source": [
    "sdf"
   ]
  }
 ],
 "metadata": {
  "kernelspec": {
   "display_name": "Python 3",
   "language": "python",
   "name": "python3"
  },
  "language_info": {
   "codemirror_mode": {
    "name": "ipython",
    "version": 3
   },
   "file_extension": ".py",
   "mimetype": "text/x-python",
   "name": "python",
   "nbconvert_exporter": "python",
   "pygments_lexer": "ipython3",
   "version": "3.6.2"
  }
 },
 "nbformat": 4,
 "nbformat_minor": 2
}
