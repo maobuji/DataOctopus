{
 "cells": [
  {
   "cell_type": "code",
   "execution_count": 25,
   "metadata": {
    "scrolled": false
   },
   "outputs": [
    {
     "name": "stdout",
     "output_type": "stream",
     "text": [
      "defaultdict(<function <lambda> at 0x000000000CC73400>, {'监理咨询有限责任公司': 2, '通信科技有限责任公司': 3, '汇诚电信有限责任公司': 1, '电信工程有限责任公司': 1, '人进中餐，公司': 2, '12月提供公司': 2, '中国移动xxx省公司': 10, '免责声明我公司': 10, '外，我公司': 13, '、以我公司': 13, '规划设计院有限责任公司': 2, '境内注册的公司': 6, '：中国移动青海公司': 2, '\\t\\t我公司': 3, '中国移动广西公司': 1, '为中国移动广西公司': 2, '：中国移动广西公司': 2})\n"
     ]
    }
   ],
   "source": [
    "from collections import defaultdict\n",
    "import pymysql\n",
    "import re\n",
    "import jieba\n",
    "\n",
    "\n",
    "counts = defaultdict(lambda: 0) \n",
    "conn = pymysql.connect(host='127.0.0.1', port=3306, user='root', passwd='root',db='biddb',charset='utf8')\n",
    "cursor=conn.cursor();\n",
    "\n",
    "cursor.execute(\"select * from t_rawbid limit 1,10\")\n",
    "alldata = cursor.fetchall()\n",
    "for rec in alldata:\n",
    "\n",
    "    result=rec[4]\n",
    "    \n",
    "    #去掉html标识\n",
    "    dr = re.compile(r'<[^>]+>',re.S)\n",
    "    result= dr.sub('',result)\n",
    "\n",
    "    # 去掉换行\n",
    "    blank_line=re.compile('\\n+')  \n",
    "    result=blank_line.sub('',result)  \n",
    "    \n",
    "    # 去掉html空格\n",
    "    html_space=re.compile('&nbsp;')  \n",
    "    result=html_space.sub('',result) \n",
    "    \n",
    "    # 去掉空格\n",
    "    blank_space=re.compile(' ')  \n",
    "    result=blank_space.sub('',result) \n",
    "\n",
    "    #  print(result)\n",
    "    \n",
    "    #自定义词典\n",
    "    #  jieba.load_userdict(\"user.dict\")\n",
    "    seg_list = jieba.cut(result, cut_all=False,HMM=True)\n",
    "#     print(\"Full Mode: \" + \"/ \".join(seg_list))\n",
    "    \n",
    "\n",
    "    lastSeg1=''\n",
    "    lastSeg2=''\n",
    "    lastSeg3=''\n",
    "    for seg in seg_list:  \n",
    "  \n",
    "        if seg=='公司':\n",
    "            counts[lastSeg1+lastSeg2+lastSeg3+seg] +=1\n",
    "          \n",
    "        lastSeg1=lastSeg2\n",
    "        lastSeg2=lastSeg3\n",
    "        lastSeg3=seg  \n",
    "        \n",
    "      \n",
    "     \n",
    "    \n",
    "print(counts)\n",
    "\n",
    "cursor.close()\n",
    "cursor.close()"
   ]
  }
 ],
 "metadata": {
  "kernelspec": {
   "display_name": "Python [conda env:python36]",
   "language": "python",
   "name": "conda-env-python36-py"
  },
  "language_info": {
   "codemirror_mode": {
    "name": "ipython",
    "version": 3
   },
   "file_extension": ".py",
   "mimetype": "text/x-python",
   "name": "python",
   "nbconvert_exporter": "python",
   "pygments_lexer": "ipython3",
   "version": "3.6.2"
  }
 },
 "nbformat": 4,
 "nbformat_minor": 2
}
